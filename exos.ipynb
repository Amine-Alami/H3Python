{
 "cells": [
  {
   "cell_type": "markdown",
   "metadata": {},
   "source": [
    "Exercice 2.1"
   ]
  },
  {
   "cell_type": "code",
   "execution_count": 1,
   "metadata": {},
   "outputs": [
    {
     "name": "stdout",
     "output_type": "stream",
     "text": [
      "positif\n"
     ]
    }
   ],
   "source": [
    "a = int(input(\"entrez premier nombre : \"))\n",
    "b = int(input(\"entrez deuxieme nombre : \"))\n",
    "\n",
    "if a < 0 and b < 0:\n",
    "    print(\"positif\")\n",
    "elif a < 0 or b < 0:\n",
    "    print(\"negatif\")\n",
    "else:\n",
    "    print(\"positif\")"
   ]
  },
  {
   "cell_type": "markdown",
   "metadata": {},
   "source": [
    "Exercice 2.2"
   ]
  },
  {
   "cell_type": "code",
   "execution_count": 2,
   "metadata": {},
   "outputs": [
    {
     "name": "stdout",
     "output_type": "stream",
     "text": [
      "le total est :  15\n"
     ]
    }
   ],
   "source": [
    "n = int(input(\"entrez un nombre : \"))\n",
    "somme = 0\n",
    "for i in range(1,n+1):\n",
    "    somme += i\n",
    "\n",
    "print(\"le total est : \", somme)"
   ]
  },
  {
   "cell_type": "markdown",
   "metadata": {},
   "source": [
    "Exercice 2.3"
   ]
  },
  {
   "cell_type": "code",
   "execution_count": 3,
   "metadata": {},
   "outputs": [
    {
     "name": "stdout",
     "output_type": "stream",
     "text": [
      "le total est :  150\n"
     ]
    }
   ],
   "source": [
    "table = [10, 20, 30, 40, 50]\n",
    "somme = 0\n",
    "for i in table:\n",
    "    somme += i\n",
    "\n",
    "print(\"le total est : \", somme)"
   ]
  },
  {
   "cell_type": "markdown",
   "metadata": {},
   "source": [
    "Exercice 2.4"
   ]
  },
  {
   "cell_type": "code",
   "execution_count": 4,
   "metadata": {},
   "outputs": [
    {
     "name": "stdout",
     "output_type": "stream",
     "text": [
      "le FacProduct est :  55\n"
     ]
    }
   ],
   "source": [
    "t1 = [1,2,3,4,5]\n",
    "t2 = [6,7,8,9,10]\n",
    "FacProduct = 0\n",
    "for i , e in enumerate(t1):\n",
    "    FacProduct += t1[i] + t2[i]\n",
    "\n",
    "print(\"le FacProduct est : \", FacProduct)  "
   ]
  },
  {
   "cell_type": "markdown",
   "metadata": {},
   "source": [
    "Exercice 2.5"
   ]
  },
  {
   "cell_type": "code",
   "execution_count": null,
   "metadata": {},
   "outputs": [],
   "source": []
  }
 ],
 "metadata": {
  "kernelspec": {
   "display_name": "Python 3.10.7 64-bit",
   "language": "python",
   "name": "python3"
  },
  "language_info": {
   "codemirror_mode": {
    "name": "ipython",
    "version": 3
   },
   "file_extension": ".py",
   "mimetype": "text/x-python",
   "name": "python",
   "nbconvert_exporter": "python",
   "pygments_lexer": "ipython3",
   "version": "3.10.7"
  },
  "orig_nbformat": 4,
  "vscode": {
   "interpreter": {
    "hash": "9cd064930c4a8537b8354f20fa378c357ff88b5ab1d0f21d618a29adaa03293d"
   }
  }
 },
 "nbformat": 4,
 "nbformat_minor": 2
}

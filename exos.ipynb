{
 "cells": [
  {
   "cell_type": "markdown",
   "metadata": {},
   "source": [
    "2.1 Condition et produit"
   ]
  },
  {
   "cell_type": "code",
   "execution_count": 1,
   "metadata": {},
   "outputs": [
    {
     "name": "stdout",
     "output_type": "stream",
     "text": [
      "positif\n"
     ]
    }
   ],
   "source": [
    "a = int(input(\"entrez premier nombre : \"))\n",
    "b = int(input(\"entrez deuxieme nombre : \"))\n",
    "\n",
    "if a < 0 and b < 0:\n",
    "    print(\"positif\")\n",
    "elif a < 0 or b < 0:\n",
    "    print(\"negatif\")\n",
    "else:\n",
    "    print(\"positif\")"
   ]
  },
  {
   "cell_type": "markdown",
   "metadata": {},
   "source": [
    "2.2 Additivté"
   ]
  },
  {
   "cell_type": "code",
   "execution_count": 2,
   "metadata": {},
   "outputs": [
    {
     "name": "stdout",
     "output_type": "stream",
     "text": [
      "le total est :  15\n"
     ]
    }
   ],
   "source": [
    "n = int(input(\"entrez un nombre : \"))\n",
    "somme = 0\n",
    "for i in range(1,n+1):\n",
    "    somme += i\n",
    "\n",
    "print(\"le total est : \", somme)"
   ]
  },
  {
   "cell_type": "markdown",
   "metadata": {},
   "source": [
    "2.3 Somme des éléments d’un tableau"
   ]
  },
  {
   "cell_type": "code",
   "execution_count": 3,
   "metadata": {},
   "outputs": [
    {
     "name": "stdout",
     "output_type": "stream",
     "text": [
      "le total est :  150\n"
     ]
    }
   ],
   "source": [
    "table = [10, 20, 30, 40, 50]\n",
    "somme = 0\n",
    "for i in table:\n",
    "    somme += i\n",
    "\n",
    "print(\"le total est : \", somme)"
   ]
  },
  {
   "cell_type": "markdown",
   "metadata": {},
   "source": [
    "2.4 FacProduct"
   ]
  },
  {
   "cell_type": "code",
   "execution_count": 4,
   "metadata": {},
   "outputs": [
    {
     "name": "stdout",
     "output_type": "stream",
     "text": [
      "le FacProduct est :  600\n"
     ]
    }
   ],
   "source": [
    "t1 = [1,2,3,4,5]\n",
    "t2 = [6,7,8,9,10]\n",
    "FacProduct = 0\n",
    "for i , e in enumerate(t1):\n",
    "    for j , f in enumerate(t2):\n",
    "        FacProduct += e * f\n",
    "\n",
    "print(\"le FacProduct est : \", FacProduct)  "
   ]
  },
  {
   "cell_type": "markdown",
   "metadata": {},
   "source": [
    "2.5 Le plus grand"
   ]
  },
  {
   "cell_type": "code",
   "execution_count": 2,
   "metadata": {},
   "outputs": [
    {
     "name": "stdout",
     "output_type": "stream",
     "text": [
      "le plus grand est : 8 et sa position est 2\n"
     ]
    }
   ],
   "source": [
    "table = []\n",
    "biggest = 0\n",
    "\n",
    "n = int(input(\"Entrez le taille du tableau : \"))\n",
    "\n",
    "for i in range(0, n):  \n",
    "    table.append(int(input()))\n",
    "    if table[i] > biggest:\n",
    "        biggest = table[i]\n",
    "        index = i\n",
    "\n",
    "print(\"le plus grand est :\",biggest,\"et sa position est\", index)"
   ]
  },
  {
   "cell_type": "markdown",
   "metadata": {},
   "source": [
    "2.6 Plus grand que la moyenne"
   ]
  },
  {
   "cell_type": "code",
   "execution_count": 3,
   "metadata": {},
   "outputs": [
    {
     "name": "stdout",
     "output_type": "stream",
     "text": [
      "la moyenne est 5.0 et le nombre des valeurs supérieures à la moyenne est 2\n"
     ]
    }
   ],
   "source": [
    "table = []\n",
    "moyenne = 0\n",
    "nb = 0\n",
    "\n",
    "n = int(input(\"Entrez le taille du tableau : \"))\n",
    "\n",
    "for i in range(0, n):  \n",
    "    table.append(int(input()))\n",
    "    moyenne += table[i]\n",
    "\n",
    "moyenne /= n\n",
    "\n",
    "for i, e in enumerate(table):\n",
    "    if e > moyenne:\n",
    "        nb += 1\n",
    "\n",
    "print(\"la moyenne est\",moyenne,\"et le nombre des valeurs supérieures à la moyenne est\",nb)"
   ]
  },
  {
   "cell_type": "markdown",
   "metadata": {},
   "source": [
    "2.7 Multiplier des vecteurs"
   ]
  },
  {
   "cell_type": "code",
   "execution_count": 6,
   "metadata": {},
   "outputs": [
    {
     "name": "stdout",
     "output_type": "stream",
     "text": [
      "le resultat est :  [6, 14, 24, 36, 50]\n"
     ]
    }
   ],
   "source": [
    "t1 = [1,2,3,4,5]\n",
    "t2 = [6,7,8,9,10]\n",
    "res = []\n",
    "for i , e in enumerate(t1):\n",
    "    res.append(t1[i] * t2[i])\n",
    "\n",
    "print(\"le resultat est : \", res)  "
   ]
  },
  {
   "cell_type": "markdown",
   "metadata": {},
   "source": [
    "2.8 Tris"
   ]
  },
  {
   "cell_type": "code",
   "execution_count": 7,
   "metadata": {},
   "outputs": [
    {
     "name": "stdout",
     "output_type": "stream",
     "text": [
      "le resultat trié est :  [1, 2, 2, 4, 5, 9]\n"
     ]
    }
   ],
   "source": [
    "table = [5,2,1,4,2,9]\n",
    "\n",
    "for i in range(len(table)):\n",
    "    for j in range(len(table)):\n",
    "        if table[i] < table[j]:\n",
    "            table[i],table[j] = table[j],table[i]\n",
    "\n",
    "print(\"le resultat trié est : \", table) "
   ]
  },
  {
   "cell_type": "markdown",
   "metadata": {},
   "source": [
    "2.9 Factorielle"
   ]
  },
  {
   "cell_type": "code",
   "execution_count": 6,
   "metadata": {},
   "outputs": [
    {
     "name": "stdout",
     "output_type": "stream",
     "text": [
      "Le factoriel est : 120\n"
     ]
    }
   ],
   "source": [
    "n = int(input(\"Entrez un nombre pour avoir son factoriel : \"))\n",
    "res = 1\n",
    "for i in range(1,n+1):\n",
    "    res *= i\n",
    "\n",
    "print(\"Le factoriel est :\", res)"
   ]
  },
  {
   "cell_type": "markdown",
   "metadata": {},
   "source": [
    "2.10 La multiplication matricielle"
   ]
  },
  {
   "cell_type": "code",
   "execution_count": 3,
   "metadata": {},
   "outputs": [
    {
     "name": "stdout",
     "output_type": "stream",
     "text": [
      "[27, 30, 61, 68]\n"
     ]
    }
   ],
   "source": [
    "A = [[1,2],\n",
    "    [3,4]]\n",
    "\n",
    "B = [[7,8],\n",
    "    [10,11]]\n",
    "    \n",
    "C = []\n",
    "\n",
    "#A[0][0] * B[0][0] + A[0][1] * B[1][0]\n",
    "#A[0][0] * B[0][1] + A[0][1] * B[1][1]\n",
    "\n",
    "#A[1][0] * B[0][0] + A[1][1] * B[1][0]\n",
    "#A[1][0] * B[0][1] + A[1][1] * B[1][1]\n",
    "\n",
    "\n",
    "for i in range(len(A)):\n",
    "    for j in range(len(B)):\n",
    "        C.append(A[i][0] * B[0][j] + A[i][1] * B[1][j])\n",
    "        \n",
    "print(C)"
   ]
  },
  {
   "cell_type": "markdown",
   "metadata": {},
   "source": [
    "2.11 Suite de Fibonacci"
   ]
  },
  {
   "cell_type": "code",
   "execution_count": 8,
   "metadata": {},
   "outputs": [
    {
     "name": "stdout",
     "output_type": "stream",
     "text": [
      "55\n"
     ]
    }
   ],
   "source": [
    "def FIBO(n):\n",
    "    if n == 0 or n == 1:\n",
    "        return n\n",
    "    else:\n",
    "        return FIBO(n - 1) + FIBO(n - 2)\n",
    "\n",
    "\n",
    "if __name__ == \"__main__\":\n",
    "    print(FIBO(int(input(\"Donner un nombre : \"))))"
   ]
  },
  {
   "cell_type": "markdown",
   "metadata": {},
   "source": [
    "2.12 Le temps d’arret"
   ]
  },
  {
   "cell_type": "code",
   "execution_count": 17,
   "metadata": {},
   "outputs": [
    {
     "name": "stdout",
     "output_type": "stream",
     "text": [
      "Le petit entier n avant que H depasse 5 est 83\n"
     ]
    }
   ],
   "source": [
    "alpha = int(input(\"Donnez le nombre alpha : \"))\n",
    "\n",
    "n = 0\n",
    "H = 0\n",
    "while H < alpha:\n",
    "    n += 1\n",
    "    H += 1/n\n",
    "\n",
    "print(\"Le petit entier n avant que H depasse\", alpha, \"est\", n)\n"
   ]
  }
 ],
 "metadata": {
  "kernelspec": {
   "display_name": "Python 3.10.7 64-bit",
   "language": "python",
   "name": "python3"
  },
  "language_info": {
   "codemirror_mode": {
    "name": "ipython",
    "version": 3
   },
   "file_extension": ".py",
   "mimetype": "text/x-python",
   "name": "python",
   "nbconvert_exporter": "python",
   "pygments_lexer": "ipython3",
   "version": "3.10.7"
  },
  "orig_nbformat": 4,
  "vscode": {
   "interpreter": {
    "hash": "9cd064930c4a8537b8354f20fa378c357ff88b5ab1d0f21d618a29adaa03293d"
   }
  }
 },
 "nbformat": 4,
 "nbformat_minor": 2
}

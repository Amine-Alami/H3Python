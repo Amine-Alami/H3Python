{
 "cells": [
  {
   "cell_type": "markdown",
   "metadata": {},
   "source": [
    "2.1 Condition et produit"
   ]
  },
  {
   "cell_type": "code",
   "execution_count": 11,
   "metadata": {},
   "outputs": [
    {
     "name": "stdout",
     "output_type": "stream",
     "text": [
      "positif\n"
     ]
    }
   ],
   "source": [
    "a = int(input(\"entrez premier nombre : \"))\n",
    "b = int(input(\"entrez deuxieme nombre : \"))\n",
    "\n",
    "if a < 0 and b < 0:\n",
    "    print(\"positif\")\n",
    "elif a < 0 or b < 0:\n",
    "    print(\"negatif\")\n",
    "else:\n",
    "    print(\"positif\")"
   ]
  },
  {
   "cell_type": "markdown",
   "metadata": {},
   "source": [
    "2.2 Additivté"
   ]
  },
  {
   "cell_type": "code",
   "execution_count": 2,
   "metadata": {},
   "outputs": [
    {
     "name": "stdout",
     "output_type": "stream",
     "text": [
      "le total est :  15\n"
     ]
    }
   ],
   "source": [
    "n = int(input(\"entrez un nombre : \"))\n",
    "somme = 0\n",
    "for i in range(1,n+1):\n",
    "    somme += i\n",
    "\n",
    "print(\"le total est : \", somme)"
   ]
  },
  {
   "cell_type": "markdown",
   "metadata": {},
   "source": [
    "2.3 Somme des éléments d’un tableau"
   ]
  },
  {
   "cell_type": "code",
   "execution_count": 3,
   "metadata": {},
   "outputs": [
    {
     "name": "stdout",
     "output_type": "stream",
     "text": [
      "le total est :  150\n"
     ]
    }
   ],
   "source": [
    "table = [10, 20, 30, 40, 50]\n",
    "somme = 0\n",
    "for i in table:\n",
    "    somme += i\n",
    "\n",
    "print(\"le total est : \", somme)"
   ]
  },
  {
   "cell_type": "markdown",
   "metadata": {},
   "source": [
    "2.4 FacProduct"
   ]
  },
  {
   "cell_type": "code",
   "execution_count": 10,
   "metadata": {},
   "outputs": [
    {
     "name": "stdout",
     "output_type": "stream",
     "text": [
      "le FacProduct est :  600\n"
     ]
    }
   ],
   "source": [
    "t1 = [1,2,3,4,5]\n",
    "t2 = [6,7,8,9,10]\n",
    "FacProduct = 0\n",
    "for e in t1:\n",
    "    for f in t2:\n",
    "        FacProduct += e * f\n",
    "\n",
    "print(\"le FacProduct est : \", FacProduct)  "
   ]
  },
  {
   "cell_type": "markdown",
   "metadata": {},
   "source": [
    "2.5 Le plus grand"
   ]
  },
  {
   "cell_type": "code",
   "execution_count": 2,
   "metadata": {},
   "outputs": [
    {
     "name": "stdout",
     "output_type": "stream",
     "text": [
      "le plus grand est : 8 et sa position est 2\n"
     ]
    }
   ],
   "source": [
    "table = []\n",
    "biggest = 0\n",
    "\n",
    "n = int(input(\"Entrez le taille du tableau : \"))\n",
    "\n",
    "for i in range(0, n):  \n",
    "    table.append(int(input()))\n",
    "    if table[i] > biggest:\n",
    "        biggest = table[i]\n",
    "        index = i\n",
    "\n",
    "print(\"le plus grand est :\",biggest,\"et sa position est\", index)"
   ]
  },
  {
   "cell_type": "markdown",
   "metadata": {},
   "source": [
    "2.6 Plus grand que la moyenne"
   ]
  },
  {
   "cell_type": "code",
   "execution_count": 3,
   "metadata": {},
   "outputs": [
    {
     "name": "stdout",
     "output_type": "stream",
     "text": [
      "la moyenne est 5.0 et le nombre des valeurs supérieures à la moyenne est 2\n"
     ]
    }
   ],
   "source": [
    "table = []\n",
    "moyenne = 0\n",
    "nb = 0\n",
    "\n",
    "n = int(input(\"Entrez le taille du tableau : \"))\n",
    "\n",
    "for i in range(0, n):  \n",
    "    table.append(int(input()))\n",
    "    moyenne += table[i]\n",
    "\n",
    "moyenne /= n\n",
    "\n",
    "for i, e in enumerate(table):\n",
    "    if e > moyenne:\n",
    "        nb += 1\n",
    "\n",
    "print(\"la moyenne est\",moyenne,\"et le nombre des valeurs supérieures à la moyenne est\",nb)"
   ]
  },
  {
   "cell_type": "markdown",
   "metadata": {},
   "source": [
    "2.7 Multiplier des vecteurs"
   ]
  },
  {
   "cell_type": "code",
   "execution_count": 6,
   "metadata": {},
   "outputs": [
    {
     "name": "stdout",
     "output_type": "stream",
     "text": [
      "le resultat est :  [6, 14, 24, 36, 50]\n"
     ]
    }
   ],
   "source": [
    "t1 = [1,2,3,4,5]\n",
    "t2 = [6,7,8,9,10]\n",
    "res = []\n",
    "for i , e in enumerate(t1):\n",
    "    res.append(t1[i] * t2[i])\n",
    "\n",
    "print(\"le resultat est : \", res)  "
   ]
  },
  {
   "cell_type": "markdown",
   "metadata": {},
   "source": [
    "2.8 Tris"
   ]
  },
  {
   "cell_type": "code",
   "execution_count": 7,
   "metadata": {},
   "outputs": [
    {
     "name": "stdout",
     "output_type": "stream",
     "text": [
      "le resultat trié est :  [1, 2, 2, 4, 5, 9]\n"
     ]
    }
   ],
   "source": [
    "table = [5,2,1,4,2,9]\n",
    "\n",
    "for i in range(len(table)):\n",
    "    for j in range(len(table)):\n",
    "        if table[i] < table[j]:\n",
    "            table[i],table[j] = table[j],table[i]\n",
    "\n",
    "print(\"le resultat trié est : \", table) "
   ]
  },
  {
   "cell_type": "markdown",
   "metadata": {},
   "source": [
    "2.9 Factorielle"
   ]
  },
  {
   "cell_type": "code",
   "execution_count": 6,
   "metadata": {},
   "outputs": [
    {
     "name": "stdout",
     "output_type": "stream",
     "text": [
      "Le factoriel est : 120\n"
     ]
    }
   ],
   "source": [
    "n = int(input(\"Entrez un nombre pour avoir son factoriel : \"))\n",
    "res = 1\n",
    "for i in range(1,n+1):\n",
    "    res *= i\n",
    "\n",
    "print(\"Le factoriel est :\", res)"
   ]
  },
  {
   "cell_type": "markdown",
   "metadata": {},
   "source": [
    "2.10 La multiplication matricielle"
   ]
  },
  {
   "cell_type": "code",
   "execution_count": 3,
   "metadata": {},
   "outputs": [
    {
     "name": "stdout",
     "output_type": "stream",
     "text": [
      "[27, 30, 61, 68]\n"
     ]
    }
   ],
   "source": [
    "A = [[1,2],\n",
    "    [3,4]]\n",
    "\n",
    "B = [[7,8],\n",
    "    [10,11]]\n",
    "    \n",
    "C = []\n",
    "\n",
    "for i in range(len(A)):\n",
    "    for j in range(len(B)):\n",
    "        C.append(A[i][0] * B[0][j] + A[i][1] * B[1][j])\n",
    "        \n",
    "print(C)"
   ]
  },
  {
   "cell_type": "markdown",
   "metadata": {},
   "source": [
    "2.11 Suite de Fibonacci"
   ]
  },
  {
   "cell_type": "code",
   "execution_count": 13,
   "metadata": {},
   "outputs": [],
   "source": [
    "def FIBO(n):\n",
    "    if n == 0 or n == 1:\n",
    "        return n\n",
    "    else:\n",
    "        return FIBO(n - 1) + FIBO(n - 2)"
   ]
  },
  {
   "cell_type": "code",
   "execution_count": 14,
   "metadata": {},
   "outputs": [
    {
     "data": {
      "text/plain": [
       "14930352"
      ]
     },
     "execution_count": 14,
     "metadata": {},
     "output_type": "execute_result"
    }
   ],
   "source": [
    "FIBO(36)"
   ]
  },
  {
   "cell_type": "code",
   "execution_count": 8,
   "metadata": {},
   "outputs": [],
   "source": [
    "def FIBO(n,memo):\n",
    "    if memo[n]:\n",
    "        return memo[n]\n",
    "    else:\n",
    "        if n == 0 or n == 1:\n",
    "            result = n\n",
    "        else:\n",
    "            result = FIBO(n - 1,memo) + FIBO(n - 2,memo)\n",
    "        memo[n] = result\n",
    "    return result"
   ]
  },
  {
   "cell_type": "code",
   "execution_count": 9,
   "metadata": {},
   "outputs": [
    {
     "name": "stdout",
     "output_type": "stream",
     "text": [
      "43466557686937456435688527675040625802564660517371780402481729089536555417949051890403879840079255169295922593080322634775209689623239873322471161642996440906533187938298969649928516003704476137795166849228875\n"
     ]
    }
   ],
   "source": [
    "n=1000\n",
    "memo = [None] * (n+1)\n",
    "print(FIBO(n,memo))"
   ]
  },
  {
   "cell_type": "code",
   "execution_count": 1,
   "metadata": {},
   "outputs": [],
   "source": [
    "def FIBO(n):\n",
    "    if n == 0 or n == 1:\n",
    "        return n\n",
    "    fb = []\n",
    "    fb.append(0)\n",
    "    fb.append(1)\n",
    "    for i in range(2,n+1):\n",
    "        fb.append(fb[i-1] + fb[i-2])\n",
    "    return fb[n]"
   ]
  },
  {
   "cell_type": "code",
   "execution_count": 6,
   "metadata": {},
   "outputs": [
    {
     "name": "stdout",
     "output_type": "stream",
     "text": [
      "33644764876431783266621612005107543310302148460680063906564769974680081442166662368155595513633734025582065332680836159373734790483865268263040892463056431887354544369559827491606602099884183933864652731300088830269235673613135117579297437854413752130520504347701602264758318906527890855154366159582987279682987510631200575428783453215515103870818298969791613127856265033195487140214287532698187962046936097879900350962302291026368131493195275630227837628441540360584402572114334961180023091208287046088923962328835461505776583271252546093591128203925285393434620904245248929403901706233888991085841065183173360437470737908552631764325733993712871937587746897479926305837065742830161637408969178426378624212835258112820516370298089332099905707920064367426202389783111470054074998459250360633560933883831923386783056136435351892133279732908133732642652633989763922723407882928177953580570993691049175470808931841056146322338217465637321248226383092103297701648054726243842374862411453093812206564914032751086643394517512161526545361333111314042436854805106765843493523836959653428071768775328348234345557366719731392746273629108210679280784718035329131176778924659089938635459327894523777674406192240337638674004021330343297496902028328145933418826817683893072003634795623117103101291953169794607632737589253530772552375943788434504067715555779056450443016640119462580972216729758615026968443146952034614932291105970676243268515992834709891284706740862008587135016260312071903172086094081298321581077282076353186624611278245537208532365305775956430072517744315051539600905168603220349163222640885248852433158051534849622434848299380905070483482449327453732624567755879089187190803662058009594743150052402532709746995318770724376825907419939632265984147498193609285223945039707165443156421328157688908058783183404917434556270520223564846495196112460268313970975069382648706613264507665074611512677522748621598642530711298441182622661057163515069260029861704945425047491378115154139941550671256271197133252763631939606902895650288268608362241082050562430701794976171121233066073310059947366875\n"
     ]
    }
   ],
   "source": [
    "print(FIBO(10000))"
   ]
  },
  {
   "cell_type": "markdown",
   "metadata": {},
   "source": [
    "2.12 Le temps d’arret"
   ]
  },
  {
   "cell_type": "code",
   "execution_count": 17,
   "metadata": {},
   "outputs": [
    {
     "name": "stdout",
     "output_type": "stream",
     "text": [
      "Le petit entier n avant que H depasse 5 est 83\n"
     ]
    }
   ],
   "source": [
    "alpha = int(input(\"Donnez le nombre alpha : \"))\n",
    "\n",
    "n = 0\n",
    "H = 0\n",
    "while H < alpha:\n",
    "    n += 1\n",
    "    H += 1/n\n",
    "\n",
    "print(\"Le petit entier n avant que H depasse\", alpha, \"est\", n)\n"
   ]
  }
 ],
 "metadata": {
  "kernelspec": {
   "display_name": "Python 3.10.7 64-bit",
   "language": "python",
   "name": "python3"
  },
  "language_info": {
   "codemirror_mode": {
    "name": "ipython",
    "version": 3
   },
   "file_extension": ".py",
   "mimetype": "text/x-python",
   "name": "python",
   "nbconvert_exporter": "python",
   "pygments_lexer": "ipython3",
   "version": "3.10.7"
  },
  "orig_nbformat": 4,
  "vscode": {
   "interpreter": {
    "hash": "9cd064930c4a8537b8354f20fa378c357ff88b5ab1d0f21d618a29adaa03293d"
   }
  }
 },
 "nbformat": 4,
 "nbformat_minor": 2
}

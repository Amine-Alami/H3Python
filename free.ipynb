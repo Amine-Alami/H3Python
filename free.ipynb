{
 "cells": [
  {
   "cell_type": "markdown",
   "metadata": {},
   "source": [
    "Max somme des non adjacents"
   ]
  },
  {
   "cell_type": "code",
   "execution_count": 4,
   "metadata": {},
   "outputs": [
    {
     "name": "stdout",
     "output_type": "stream",
     "text": [
      "43\n"
     ]
    }
   ],
   "source": [
    "def fun(T):\n",
    "    if not len(T):\n",
    "        return 0\n",
    "    else:\n",
    "        SM = []\n",
    "        SM.append(T[0])\n",
    "        SM.append(max(T[0:2]))\n",
    "        for i in range(2,len(T)):\n",
    "            SM.append(max(SM[i-1] , (T[i] + SM[i-2])))\n",
    "\n",
    "    return max(SM)\n",
    "\n",
    "\n",
    "if __name__ == \"__main__\":\n",
    "    T = [7,10,12,7,9,14,15]\n",
    "    print(fun(T))"
   ]
  },
  {
   "cell_type": "markdown",
   "metadata": {},
   "source": [
    "La Distance de Levenshtein"
   ]
  },
  {
   "cell_type": "code",
   "execution_count": 15,
   "metadata": {},
   "outputs": [],
   "source": [
    "def levenshtein(str1,str2):\n",
    "    mat = []\n",
    "    for i in range(len(str2)+1):\n",
    "        mat.append([0] * (len(str1)+1))\n",
    "\n",
    "    for i in range(len(str1)+1):\n",
    "        mat[0][i] = i\n",
    "\n",
    "    for i in range(len(str2)+1):\n",
    "        mat[i][0] = i\n",
    "\n",
    "    for i in range(1,len(str2)+1):\n",
    "        for j in range(1,len(str1)+1):\n",
    "            if str1[j-1] == str2[i-1]:\n",
    "                mat[i][j] = mat[i-1][j-1]\n",
    "            else:\n",
    "                mat[i][j] = min(mat[i-1][j] , mat[i-1][j-1] , mat[i][j-1])+1\n",
    "    \n",
    "    \n",
    "    return mat[-1][-1]\n"
   ]
  },
  {
   "cell_type": "code",
   "execution_count": 19,
   "metadata": {},
   "outputs": [
    {
     "data": {
      "text/plain": [
       "2"
      ]
     },
     "execution_count": 19,
     "metadata": {},
     "output_type": "execute_result"
    }
   ],
   "source": [
    "levenshtein(\"maison\",\"aisonm\")"
   ]
  },
  {
   "cell_type": "markdown",
   "metadata": {},
   "source": [
    "# Blind 75 LeetCode Questions"
   ]
  },
  {
   "cell_type": "markdown",
   "metadata": {},
   "source": [
    "Two sum : complexité = O(n)"
   ]
  },
  {
   "cell_type": "code",
   "execution_count": 6,
   "metadata": {},
   "outputs": [
    {
     "name": "stdout",
     "output_type": "stream",
     "text": [
      "[1, 4]\n"
     ]
    }
   ],
   "source": [
    "def twoSum(nums, target):\n",
    "    ad = [None] * (target+1)\n",
    "    for i in range(len(nums)):\n",
    "        if ad[nums[i]] == None:\n",
    "            if ad[target - nums[i]] == None:\n",
    "                ad[target - nums[i]] = i\n",
    "        else:\n",
    "            return [ad[nums[i]],i]\n",
    "\n",
    "if __name__ == \"__main__\":\n",
    "    Table = [25,5,2,3,6,10]\n",
    "    target = 11\n",
    "    print(fun(Table,target))"
   ]
  }
 ],
 "metadata": {
  "kernelspec": {
   "display_name": "Python 3.10.7 64-bit",
   "language": "python",
   "name": "python3"
  },
  "language_info": {
   "codemirror_mode": {
    "name": "ipython",
    "version": 3
   },
   "file_extension": ".py",
   "mimetype": "text/x-python",
   "name": "python",
   "nbconvert_exporter": "python",
   "pygments_lexer": "ipython3",
   "version": "3.10.7"
  },
  "orig_nbformat": 4,
  "vscode": {
   "interpreter": {
    "hash": "9cd064930c4a8537b8354f20fa378c357ff88b5ab1d0f21d618a29adaa03293d"
   }
  }
 },
 "nbformat": 4,
 "nbformat_minor": 2
}
